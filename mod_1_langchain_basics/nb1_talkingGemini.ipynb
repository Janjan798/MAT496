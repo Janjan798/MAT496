{
 "cells": [
  {
   "cell_type": "code",
   "execution_count": 1,
   "id": "1269ee17",
   "metadata": {},
   "outputs": [],
   "source": [
    "import getpass\n",
    "import os\n",
    "\n",
    "try:\n",
    "    # load environment variables from .env file (requires `python-dotenv`)\n",
    "    from dotenv import load_dotenv\n",
    "\n",
    "    load_dotenv()\n",
    "except ImportError:\n",
    "    pass\n",
    "\n",
    "os.environ[\"LANGSMITH_TRACING\"] = \"true\"\n",
    "if \"LANGSMITH_API_KEY\" not in os.environ:\n",
    "    os.environ[\"LANGSMITH_API_KEY\"] = getpass.getpass(\n",
    "        prompt=\"Enter your LangSmith API key (optional): \"\n",
    "    )\n",
    "if \"LANGSMITH_PROJECT\" not in os.environ:\n",
    "    os.environ[\"LANGSMITH_PROJECT\"] = getpass.getpass(\n",
    "        prompt='Enter your LangSmith Project Name (default = \"default\"): '\n",
    "    )\n",
    "    if not os.environ.get(\"LANGSMITH_PROJECT\"):\n",
    "        os.environ[\"LANGSMITH_PROJECT\"] = \"default\""
   ]
  },
  {
   "cell_type": "code",
   "execution_count": 12,
   "id": "389322c3",
   "metadata": {},
   "outputs": [],
   "source": [
    "if not os.environ.get(\"GOOGLE_API_KEY\"):\n",
    "  os.environ[\"GOOGLE_API_KEY\"] = getpass.getpass(\"Enter API key for Google Gemini: \")\n",
    "\n",
    "from langchain_google_genai import ChatGoogleGenerativeAI\n",
    "\n",
    "model = ChatGoogleGenerativeAI(\n",
    "    model=\"gemini-2.5-flash\")"
   ]
  },
  {
   "cell_type": "code",
   "execution_count": 13,
   "id": "bfdbf4c2",
   "metadata": {},
   "outputs": [
    {
     "data": {
      "text/plain": [
       "AIMessage(content='வணக்கம் (Vanakkam)', additional_kwargs={}, response_metadata={'prompt_feedback': {'block_reason': 0, 'safety_ratings': []}, 'finish_reason': 'STOP', 'model_name': 'gemini-2.5-flash', 'safety_ratings': []}, id='run--d4497e3e-542a-47aa-acee-3f8e2149c53c-0', usage_metadata={'input_tokens': 9, 'output_tokens': 41, 'total_tokens': 50, 'input_token_details': {'cache_read': 0}, 'output_token_details': {'reasoning': 35}})"
      ]
     },
     "execution_count": 13,
     "metadata": {},
     "output_type": "execute_result"
    }
   ],
   "source": [
    "from langchain_core.messages import HumanMessage, SystemMessage\n",
    "\n",
    "messages = [\n",
    "    SystemMessage(\"Translate the following from English into Tamil\"),\n",
    "    HumanMessage(\"Hello\"),\n",
    "]\n",
    "\n",
    "model.invoke(messages)"
   ]
  },
  {
   "cell_type": "code",
   "execution_count": 4,
   "id": "294f3e73",
   "metadata": {},
   "outputs": [
    {
     "data": {
      "text/plain": [
       "AIMessage(content='Hello! How can I help you today?', additional_kwargs={}, response_metadata={'prompt_feedback': {'block_reason': 0, 'safety_ratings': []}, 'finish_reason': 'STOP', 'model_name': 'gemini-2.5-flash', 'safety_ratings': []}, id='run--16a96fe2-8690-45b3-a5cc-e7ceaa5efb5b-0', usage_metadata={'input_tokens': 2, 'output_tokens': 36, 'total_tokens': 38, 'input_token_details': {'cache_read': 0}, 'output_token_details': {'reasoning': 27}})"
      ]
     },
     "execution_count": 4,
     "metadata": {},
     "output_type": "execute_result"
    }
   ],
   "source": [
    "model.invoke(\"Hello\")"
   ]
  },
  {
   "cell_type": "code",
   "execution_count": 5,
   "id": "445131a0",
   "metadata": {},
   "outputs": [
    {
     "data": {
      "text/plain": [
       "AIMessage(content='Hello! How can I help you today?', additional_kwargs={}, response_metadata={'prompt_feedback': {'block_reason': 0, 'safety_ratings': []}, 'finish_reason': 'STOP', 'model_name': 'gemini-2.5-flash', 'safety_ratings': []}, id='run--6f475db2-7b5e-43fc-a816-90924ff97f05-0', usage_metadata={'input_tokens': 2, 'output_tokens': 37, 'total_tokens': 39, 'input_token_details': {'cache_read': 0}, 'output_token_details': {'reasoning': 28}})"
      ]
     },
     "execution_count": 5,
     "metadata": {},
     "output_type": "execute_result"
    }
   ],
   "source": [
    "model.invoke([{\"role\": \"user\", \"content\": \"Hello\"}])"
   ]
  },
  {
   "cell_type": "code",
   "execution_count": 6,
   "id": "9ed74381",
   "metadata": {},
   "outputs": [
    {
     "data": {
      "text/plain": [
       "AIMessage(content=\"It's crucial to understand that a *single question cannot accurately measure someone's IQ*. IQ tests are comprehensive, standardized assessments that evaluate a wide range of cognitive abilities (verbal comprehension, perceptual reasoning, working memory, processing speed) through many different types of questions, often administered by trained professionals in timed settings.\\n\\nHowever, I can provide an example of a type of question commonly found in IQ tests that assesses logical reasoning and pattern recognition.\\n\\n---\\n\\n**Example IQ-Style Question (Pattern Recognition/Numerical Reasoning):**\\n\\nWhat number comes next in the sequence?\\n\\n3, 6, 8, 16, 18, ?\\n\\nA) 20\\nB) 24\\nC) 32\\nD) 36\\nE) 40\\n\\n---\\n\\n**Why this type of question is used in IQ tests:**\\n\\n*   **Pattern Recognition:** It requires identifying a consistent rule or set of rules governing the sequence.\\n*   **Logical Deduction:** You must deduce the underlying operations (+, -, x, /) or relationships between the numbers.\\n*   **Working Memory:** You need to hold the previous numbers and potential rules in mind while testing hypotheses.\\n*   **Abstract Reasoning:** It's not about prior knowledge, but about the ability to see abstract relationships.\\n\\n---\\n\\n**Answer and Explanation:**\\n\\nThe correct answer is **D) 36**.\\n\\n**The pattern is:**\\n1.  Multiply the current number by 2.\\n2.  Add 2 to the result.\\n3.  Repeat the pattern.\\n\\nLet's break it down:\\n*   3 **x 2** = 6\\n*   6 **+ 2** = 8\\n*   8 **x 2** = 16\\n*   16 **+ 2** = 18\\n*   18 **x 2** = **36**\\n\\n---\\n\\n**Disclaimer Revisited:**\\n\\nAgain, this is just one example. A true IQ assessment involves many such questions across various categories, is standardized against a large population, and considers the time taken to answer. Do not use a single question to make any judgments about a person's intelligence.\", additional_kwargs={}, response_metadata={'prompt_feedback': {'block_reason': 0, 'safety_ratings': []}, 'finish_reason': 'STOP', 'model_name': 'gemini-2.5-flash', 'safety_ratings': []}, id='run--545439ab-1096-4a2b-885b-d60f35d37dc9-0', usage_metadata={'input_tokens': 10, 'output_tokens': 1666, 'total_tokens': 1676, 'input_token_details': {'cache_read': 0}, 'output_token_details': {'reasoning': 1203}})"
      ]
     },
     "execution_count": 6,
     "metadata": {},
     "output_type": "execute_result"
    }
   ],
   "source": [
    "model.invoke([HumanMessage(\"Generate a question to check someone's IQ\")])"
   ]
  },
  {
   "cell_type": "code",
   "execution_count": 7,
   "id": "e2f442e9",
   "metadata": {},
   "outputs": [
    {
     "data": {
      "text/plain": [
       "AIMessage(content=\"Let's find the pattern:\\n\\n* 5 - 3 = 2\\n* 9 - 5 = 4\\n* 17 - 9 = 8\\n\\nThe difference between consecutive numbers is doubling each time (2, 4, 8).\\nSo, the next difference should be 8 * 2 = 16.\\n\\nTo find the next number in the sequence, add 16 to the last number (17):\\n17 + 16 = 33\\n\\nThe next number in the sequence is **33**.\", additional_kwargs={}, response_metadata={'prompt_feedback': {'block_reason': 0, 'safety_ratings': []}, 'finish_reason': 'STOP', 'model_name': 'gemini-2.5-flash', 'safety_ratings': []}, id='run--abf20559-a700-4391-a220-dc0835addcc2-0', usage_metadata={'input_tokens': 23, 'output_tokens': 509, 'total_tokens': 532, 'input_token_details': {'cache_read': 0}, 'output_token_details': {'reasoning': 389}})"
      ]
     },
     "execution_count": 7,
     "metadata": {},
     "output_type": "execute_result"
    }
   ],
   "source": [
    "model.invoke([HumanMessage(\"What number comes next in the sequence?\\n\\n**3, 5, 9, 17,\")])"
   ]
  },
  {
   "cell_type": "code",
   "execution_count": 14,
   "id": "e0aad053",
   "metadata": {},
   "outputs": [
    {
     "name": "stdout",
     "output_type": "stream",
     "text": [
      "Hi there! How can I help you today?"
     ]
    }
   ],
   "source": [
    "for chunk in model.stream(\"hi\"):\n",
    "    # Only the new piece of text (token delta)\n",
    "    if chunk.content:\n",
    "        print(chunk.content, end=\"\", flush=True)"
   ]
  },
  {
   "cell_type": "code",
   "execution_count": 9,
   "id": "4b3e5e3f",
   "metadata": {},
   "outputs": [
    {
     "name": "stdout",
     "output_type": "stream",
     "text": [
      "Hello! How can I help you today?\n"
     ]
    }
   ],
   "source": [
    "import time\n",
    "\n",
    "for chunk in model.stream(\"hello\"):\n",
    "    if chunk.content:\n",
    "        print(chunk.content)\n",
    "        time.sleep(0.05)"
   ]
  }
 ],
 "metadata": {
  "kernelspec": {
   "display_name": "venv",
   "language": "python",
   "name": "python3"
  },
  "language_info": {
   "codemirror_mode": {
    "name": "ipython",
    "version": 3
   },
   "file_extension": ".py",
   "mimetype": "text/x-python",
   "name": "python",
   "nbconvert_exporter": "python",
   "pygments_lexer": "ipython3",
   "version": "3.12.2"
  }
 },
 "nbformat": 4,
 "nbformat_minor": 5
}
