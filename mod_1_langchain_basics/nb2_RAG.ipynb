{
 "cells": [
  {
   "cell_type": "code",
   "execution_count": 1,
   "id": "9c93446b",
   "metadata": {},
   "outputs": [
    {
     "data": {
      "text/plain": [
       "True"
      ]
     },
     "execution_count": 1,
     "metadata": {},
     "output_type": "execute_result"
    }
   ],
   "source": [
    "from dotenv import load_dotenv\n",
    "load_dotenv()"
   ]
  },
  {
   "cell_type": "code",
   "execution_count": 2,
   "id": "ed397460",
   "metadata": {},
   "outputs": [],
   "source": [
    "from langchain_google_genai import ChatGoogleGenerativeAI\n",
    "\n",
    "model = ChatGoogleGenerativeAI(\n",
    "    model=\"gemini-2.5-flash\")"
   ]
  },
  {
   "cell_type": "code",
   "execution_count": null,
   "id": "6a9f94a8",
   "metadata": {},
   "outputs": [],
   "source": [
    "#prompt template ...curly brackets is like FITB\n",
    "\n",
    "prompt_template=\"\"\"Translate the given text into the given language:\n",
    "Text: {text}\n",
    "Lang: {lang}\n",
    "\"\"\""
   ]
  },
  {
   "cell_type": "code",
   "execution_count": 5,
   "id": "cf1a3768",
   "metadata": {},
   "outputs": [
    {
     "data": {
      "text/plain": [
       "'Translate the given text into the given language:\\nText: How are you\\nLang: Tamil\\n'"
      ]
     },
     "execution_count": 5,
     "metadata": {},
     "output_type": "execute_result"
    }
   ],
   "source": [
    "prompt=prompt_template.format(text=\"How are you\", lang=\"Tamil\")\n",
    "prompt"
   ]
  },
  {
   "cell_type": "code",
   "execution_count": 6,
   "id": "57717f7f",
   "metadata": {},
   "outputs": [
    {
     "data": {
      "text/plain": [
       "AIMessage(content='நீங்கள் எப்படி இருக்கிறீர்கள்? (Neengal eppadi irukkeereergal?)', additional_kwargs={}, response_metadata={'prompt_feedback': {'block_reason': 0, 'safety_ratings': []}, 'finish_reason': 'STOP', 'model_name': 'gemini-2.5-flash', 'safety_ratings': []}, id='run--42ed6b4d-0361-439c-8f60-83578d9f71de-0', usage_metadata={'input_tokens': 21, 'output_tokens': 49, 'total_tokens': 70, 'input_token_details': {'cache_read': 0}, 'output_token_details': {'reasoning': 29}})"
      ]
     },
     "execution_count": 6,
     "metadata": {},
     "output_type": "execute_result"
    }
   ],
   "source": [
    "response=model.invoke(prompt)\n",
    "response"
   ]
  },
  {
   "cell_type": "markdown",
   "id": "65f41a2a",
   "metadata": {},
   "source": [
    "Retreival Augmented Generation (RAG)"
   ]
  },
  {
   "cell_type": "code",
   "execution_count": 7,
   "id": "b243361e",
   "metadata": {},
   "outputs": [],
   "source": [
    "prompt_template=\"\"\"You are an assistant for question answering tasks. Use the following pieces of retreived context to answer the question.\n",
    "If you don't know the answer just say you don't know.\n",
    "Question: {question}\n",
    "Context: {context}\n",
    "\"\"\""
   ]
  },
  {
   "cell_type": "code",
   "execution_count": 9,
   "id": "f76efe96",
   "metadata": {},
   "outputs": [
    {
     "data": {
      "text/plain": [
       "AIMessage(content='Your name is Arnav.', additional_kwargs={}, response_metadata={'prompt_feedback': {'block_reason': 0, 'safety_ratings': []}, 'finish_reason': 'STOP', 'model_name': 'gemini-2.5-flash', 'safety_ratings': []}, id='run--3e85a87a-9764-4d9e-8353-73c06f3c548f-0', usage_metadata={'input_tokens': 55, 'output_tokens': 41, 'total_tokens': 96, 'input_token_details': {'cache_read': 0}, 'output_token_details': {'reasoning': 36}})"
      ]
     },
     "execution_count": 9,
     "metadata": {},
     "output_type": "execute_result"
    }
   ],
   "source": [
    "model = ChatGoogleGenerativeAI(\n",
    "    model=\"gemini-2.5-flash\")\n",
    "\n",
    "prompt=prompt_template.format(question=\"Who am I\",context=\"My name is Arnav\")\n",
    "model.invoke(prompt)"
   ]
  },
  {
   "cell_type": "code",
   "execution_count": 11,
   "id": "de360cd3",
   "metadata": {},
   "outputs": [
    {
     "data": {
      "text/plain": [
       "AIMessage(content=\"I don't know.\", additional_kwargs={}, response_metadata={'prompt_feedback': {'block_reason': 0, 'safety_ratings': []}, 'finish_reason': 'STOP', 'model_name': 'gemini-2.5-flash', 'safety_ratings': []}, id='run--ac9c9beb-0ddc-4f14-9905-ab03ff08895c-0', usage_metadata={'input_tokens': 56, 'output_tokens': 163, 'total_tokens': 219, 'input_token_details': {'cache_read': 0}, 'output_token_details': {'reasoning': 157}})"
      ]
     },
     "execution_count": 11,
     "metadata": {},
     "output_type": "execute_result"
    }
   ],
   "source": [
    "prompt=prompt_template.format(question=\"What is my age\", context=\"My name is Arnav\")\n",
    "model.invoke(prompt)"
   ]
  },
  {
   "cell_type": "code",
   "execution_count": 13,
   "id": "9cc9e891",
   "metadata": {},
   "outputs": [
    {
     "data": {
      "text/plain": [
       "'India and the US are holding a day of trade talks, sparking hope that stalled negotiations on a bilateral agreement will soon resume.\\nA team led by US trade negotiator Brendan Lynch is in Delhi to meet officials from India\\'s commerce ministry.\\nIndia said the meeting doesn\\'t mark the start of the next round of negotiations, describing it as a \"discussion\" about \"trying to see\" how an agreement can be reached.\\nNegotiations on a trade deal had stalled after US President Donald Trump imposed a hefty 50% tariff on Indian goods, partly as a penalty for Delhi\\'s purchase of Russian oil and weapons. India has defended its decision, citing domestic energy needs, and called the tariffs \"unfair\".\\nThe hefty duties, along with strong criticism of India by Trump and his key officials, have led to a swift and surprising deterioration in ties between the allies.\\nIndia is a major exporter of goods, including garments, shrimp and gems and jewellery to the US, and the tariffs have already impacted production and livelihoods.\\nSo Tuesday\\'s meeting between Indian and US officials is being closely watched.\\nTrump\\'s 50% tariff on India kicks in as Modi urges self-reliance\\n\\'How will I pay workers?\\': Indian factories hit hard by Trump\\'s 50% tariffs\\n\"This is not an official round of negotiations but it will definitely be a discussion on the trade talks and on trying to see how we can reach an agreement between India and the US,\" Rajesh Agrawal, who is leading the discussions on India\\'s behalf, told local media on Monday ahead of Mr Lynch\\'s visit.\\nA round of negotiations was called off last month following Trump\\'s tariff announcement and India\\'s refusal to stop buying Russian oil.\\nBut over the past few days, hopes have risen - Trump administration officials have sounded more conciliatory and India has confirmed that the discussions are still on.\\nOn Monday, US trade adviser Peter Navarro told CNBC News: \"India is coming to the table. We will see how this works.\"\\nNavarro has been one of the most vocal critics of India, calling Russia\\'s ongoing war with Ukraine Indian Prime Minister Narendra \"Modi\\'s war\".\\nIn the CNBC interview, Mr Navarro also referenced last week\\'s social media exchange between Trump and Modi.\\nTrump said that the US and India were \"continuing negotiations to address the trade barriers\" between the two countries. In response, Modi echoed the US president\\'s optimism and said the two countries were \"close friends and natural partners.\"\\nSergio Gor, Trump\\'s nominee to be the next US ambassador to India, also said that the trade deal \"will get resolved in the next weeks\".\\n\"We are not that far apart right now on the deal. In fact, they\\'re negotiating the nitty-gritty of the deal,\" he said during a confirmation hearing last week.\\nTrump is sending a \\'great friend\\' to India. Some see him as a \\'slap in the face\\'\\nTrump wants India to buy US corn - but here\\'s why it probably won\\'t\\nBut it still remains to be seen how the countries solve key disagreements that had earlier prevented a trade deal from materialising.\\nAgriculture and dairy, in particular, are key sticking points.\\nFor years, Washington has pushed for greater access to India\\'s farm sector, seeing it as a major untapped market. But India has fiercely protected it, citing food security, livelihoods and the interests of millions of small farmers.\\nLast week, US Commerce Secretary Howard Lutnick repeated his earlier criticism of India\\'s fierce safeguards, asking why a country of 1.4 billion people wouldn\\'t \"buy one bushel of US corn\".\\nBut Indian experts have argued that Delhi shouldn\\'t give in to pressure to open up its agricultural market, keeping national sovereignty and food security in mind.\\nFollow BBC News India on Instagram, YouTube, Twitter and Facebook.\\n'"
      ]
     },
     "execution_count": 13,
     "metadata": {},
     "output_type": "execute_result"
    }
   ],
   "source": [
    "with open('article.txt',\"r\") as file: \n",
    "    my_context= file.read()\n",
    "\n",
    "my_context"
   ]
  },
  {
   "cell_type": "code",
   "execution_count": 15,
   "id": "d87d400d",
   "metadata": {},
   "outputs": [
    {
     "data": {
      "text/plain": [
       "AIMessage(content='India and the US are holding trade talks in Delhi, sparking hopes that stalled negotiations for a bilateral trade agreement will resume. Negotiations had previously stalled after the US, under President Donald Trump, imposed a 50% tariff on Indian goods, partly as a penalty for India\\'s purchase of Russian oil and weapons. India defended its decision citing domestic energy needs and called the tariffs \"unfair,\" leading to a deterioration of ties.\\n\\nThe current meeting, led by US trade negotiator Brendan Lynch and India\\'s Rajesh Agrawal, is described by India as a \"discussion\" to explore how an agreement can be reached, rather than an official round of negotiations. Despite earlier setbacks, hopes for a deal have risen due to more conciliatory statements from US officials and positive exchanges between Trump and Indian Prime Minister Narendra Modi. US trade adviser Peter Navarro, previously critical of India, confirmed India is \"coming to the table,\" and US ambassador nominee Sergio Gor expressed optimism that the deal would be resolved soon.\\n\\nHowever, significant disagreements remain, particularly concerning agriculture and dairy. The US seeks greater access to India\\'s farm sector, while India fiercely protects it, citing food security, livelihoods, and the interests of millions of small farmers. US Commerce Secretary Howard Lutnick has criticized India\\'s safeguards, but Indian experts argue against opening up the agricultural market for reasons of national sovereignty and food security.', additional_kwargs={}, response_metadata={'prompt_feedback': {'block_reason': 0, 'safety_ratings': []}, 'finish_reason': 'STOP', 'model_name': 'gemini-2.5-flash', 'safety_ratings': []}, id='run--d4ae77dd-916b-4cdf-a8e1-4a7e60610ca1-0', usage_metadata={'input_tokens': 859, 'output_tokens': 557, 'total_tokens': 1416, 'input_token_details': {'cache_read': 0}, 'output_token_details': {'reasoning': 281}})"
      ]
     },
     "execution_count": 15,
     "metadata": {},
     "output_type": "execute_result"
    }
   ],
   "source": [
    "prompt=prompt_template.format(question=\"Summarize the following\", context=my_context)\n",
    "model.invoke(prompt)"
   ]
  },
  {
   "cell_type": "markdown",
   "id": "15b099bc",
   "metadata": {},
   "source": [
    "If you add a book(txt) as context it says message is too large for the model"
   ]
  }
 ],
 "metadata": {
  "kernelspec": {
   "display_name": "venv",
   "language": "python",
   "name": "python3"
  },
  "language_info": {
   "codemirror_mode": {
    "name": "ipython",
    "version": 3
   },
   "file_extension": ".py",
   "mimetype": "text/x-python",
   "name": "python",
   "nbconvert_exporter": "python",
   "pygments_lexer": "ipython3",
   "version": "3.12.2"
  }
 },
 "nbformat": 4,
 "nbformat_minor": 5
}
