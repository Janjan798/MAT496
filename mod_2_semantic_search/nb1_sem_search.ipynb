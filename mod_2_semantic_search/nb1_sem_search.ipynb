{
 "cells": [
  {
   "cell_type": "code",
   "execution_count": 1,
   "id": "a88da927",
   "metadata": {},
   "outputs": [],
   "source": [
    "#!pip install langchain-community pypdf"
   ]
  },
  {
   "cell_type": "code",
   "execution_count": 2,
   "id": "f17f0e6a",
   "metadata": {},
   "outputs": [],
   "source": [
    "from dotenv import load_dotenv\n",
    "load_dotenv()\n",
    "import os"
   ]
  },
  {
   "cell_type": "code",
   "execution_count": 3,
   "id": "52039aa4",
   "metadata": {},
   "outputs": [],
   "source": [
    "from langchain_google_genai import ChatGoogleGenerativeAI\n",
    "\n",
    "model = ChatGoogleGenerativeAI(\n",
    "    model=\"gemini-2.5-flash\")"
   ]
  },
  {
   "cell_type": "code",
   "execution_count": 4,
   "id": "32918ca3",
   "metadata": {},
   "outputs": [],
   "source": [
    "prompt_template=\"\"\"You are an assistant for question answering tasks. Use the following pieces of retreived context to answer the question.\n",
    "If you don't know the answer just say you don't know. Keep it brief.\n",
    "Question: {question}\n",
    "Context: {context}\n",
    "\"\"\""
   ]
  },
  {
   "cell_type": "code",
   "execution_count": 5,
   "id": "ea5d518e",
   "metadata": {},
   "outputs": [
    {
     "data": {
      "text/plain": [
       "'Inn.\\n\\nCHAPTER 4. The Counterpane.\\n\\nCHAPTER 5. Breakfast.\\n\\nCHAPTER 6. The Street.\\n\\nCHAPTER 7. The Cha'"
      ]
     },
     "execution_count": 5,
     "metadata": {},
     "output_type": "execute_result"
    }
   ],
   "source": [
    "with open('MobyDick.txt', encoding='utf-8', errors='replace') as book:\n",
    "    text = book.read()\n",
    "\n",
    "text[1000:1100]"
   ]
  },
  {
   "cell_type": "code",
   "execution_count": 6,
   "id": "10a48917",
   "metadata": {},
   "outputs": [],
   "source": [
    "# Better printing\n",
    "\n",
    "from IPython.display import Markdown"
   ]
  },
  {
   "cell_type": "code",
   "execution_count": 7,
   "id": "5103f8d7",
   "metadata": {},
   "outputs": [],
   "source": [
    "from langchain_community.document_loaders import TextLoader\n",
    "loader = TextLoader(\"war.txt\", encoding='utf-8')\n",
    "docs = loader.load()"
   ]
  },
  {
   "cell_type": "code",
   "execution_count": 10,
   "id": "d256ad9d",
   "metadata": {},
   "outputs": [
    {
     "name": "stdout",
     "output_type": "stream",
     "text": [
      "Split given book into 1035 sub-documents.\n"
     ]
    }
   ],
   "source": [
    "from langchain_text_splitters import RecursiveCharacterTextSplitter\n",
    "\n",
    "text_splitter = RecursiveCharacterTextSplitter(\n",
    "    chunk_size=500,  # chunk size (characters)\n",
    "    chunk_overlap=100,  # chunk overlap (characters)\n",
    "    add_start_index=True,  # track index in original document\n",
    ")\n",
    "all_splits = text_splitter.split_documents(docs)\n",
    "\n",
    "print(f\"Split given book into {len(all_splits)} sub-documents.\")"
   ]
  },
  {
   "cell_type": "markdown",
   "id": "53a3dc80",
   "metadata": {},
   "source": [
    "EMBEDDINGS"
   ]
  },
  {
   "cell_type": "code",
   "execution_count": 16,
   "id": "18d72043",
   "metadata": {},
   "outputs": [
    {
     "name": "stdout",
     "output_type": "stream",
     "text": [
      "Added 1035 documents to vector store using HuggingFace embeddings.\n"
     ]
    }
   ],
   "source": [
    "# Free alternative to Gemini embeddings\n",
    "from langchain_community.embeddings import HuggingFaceEmbeddings\n",
    "\n",
    "# Load a small, fast embedding model\n",
    "embeddings = HuggingFaceEmbeddings(model_name=\"sentence-transformers/all-MiniLM-L6-v2\")\n",
    "\n",
    "# Create a vector store\n",
    "from langchain_core.vectorstores import InMemoryVectorStore\n",
    "vector_store = InMemoryVectorStore(embeddings)\n",
    "\n",
    "# Adding documents to vector store in small batches (to avoid memory spikes)\n",
    "batched_ids = []\n",
    "batch_size = 50  # you can adjust this up/down\n",
    "for i in range(0, len(all_splits), batch_size):\n",
    "    batch = all_splits[i:i+batch_size]\n",
    "    ids = vector_store.add_documents(documents=batch)\n",
    "    batched_ids.extend(ids)\n",
    "\n",
    "print(f\"Added {len(batched_ids)} documents to vector store using HuggingFace embeddings.\")\n"
   ]
  },
  {
   "cell_type": "code",
   "execution_count": 17,
   "id": "bddac4c0",
   "metadata": {},
   "outputs": [
    {
     "data": {
      "text/plain": [
       "['485197d1-2c65-4c36-a3bf-3243834545a4',\n",
       " '73b80527-7108-40c4-920d-8cae43135ed8',\n",
       " 'f091d484-457c-4e97-8be9-d6e607b2c6be',\n",
       " 'b9c5b244-ccd8-4046-b8cf-f41cb46dc591',\n",
       " 'e3e01211-3f15-4e45-8899-dd66964c9a19',\n",
       " 'b3adceb9-3bfb-4f05-b49f-b65e6211e88e',\n",
       " '21926595-ba9e-455c-9701-e52694129294',\n",
       " 'b33c8ffa-c158-4359-8e64-fe3093cbc00a',\n",
       " '8838226b-fdae-46ac-aeda-30dd8bc0e38d',\n",
       " 'bfe6f063-1547-4765-9f1d-ed0a38490ed1',\n",
       " '27a029e1-1a3b-4f92-a1dd-cab93b165d63',\n",
       " 'b8fe92dc-ef50-40a5-b4c4-5ee2e19278d1',\n",
       " 'b8439334-dc8f-42a5-9a13-2a4c453f80f2',\n",
       " '704b05b5-f50a-4494-aca8-5d79b64ae919',\n",
       " 'd187b408-e9a4-40c0-b7fa-b4b986cf859a',\n",
       " '2f25f4e6-1cef-4833-8bf2-b7c5b21a626b',\n",
       " '35b1833f-39a3-4b0b-bf43-4b5a96a6c7d9',\n",
       " '02a2e95d-288d-4c05-8338-ec22dd0e84e4',\n",
       " '4cd8e898-2f4e-42c3-9e76-539ecbfb18d6',\n",
       " 'c8271c13-cac4-45cf-9608-e7f6f9a1f416',\n",
       " '09373ac6-3c2d-4832-b9da-c483bfbfa71f',\n",
       " 'c41c53b5-1f68-402c-9db5-ff19fe096484',\n",
       " '74719fd8-b6b7-47a5-a149-b7847a49d268',\n",
       " 'a1553631-11e0-4403-bb0e-dfdf7675549a',\n",
       " '33bda22c-564f-4857-b7f8-3e11b9ffac61',\n",
       " 'bc50cf74-a73d-4ed3-a8dc-e9c909581234',\n",
       " '1b1d339d-651b-4d62-9e95-f750cb92729b',\n",
       " '6a517735-e68e-4f26-bfb0-eab4fd6835df',\n",
       " '9cc33169-51f7-4277-a570-0212c750d327',\n",
       " '5e86a65f-6331-48c8-829e-8bd66dbf74cd',\n",
       " '77dfda2f-ca19-4cb6-83c2-4674bae62ed5',\n",
       " '3fb0fcfa-88ed-4fe9-9b97-a8ea53be0dec',\n",
       " 'b96f7032-a4bb-42b4-a62b-774628566a91',\n",
       " '5d388b91-c6fc-4eab-ba58-54eae038e11c',\n",
       " '57c9ac10-8b11-492b-8475-b8ea736e6380']"
      ]
     },
     "execution_count": 17,
     "metadata": {},
     "output_type": "execute_result"
    }
   ],
   "source": [
    "ids"
   ]
  },
  {
   "cell_type": "code",
   "execution_count": 18,
   "id": "c6ef110d",
   "metadata": {},
   "outputs": [
    {
     "data": {
      "text/plain": [
       "[(Document(id='3535b1f8-59e8-4f4b-87df-db98ba9e7ebc', metadata={'source': 'war.txt', 'start_index': 172155}, page_content='That was the story they told my brother in fragments when presently\\nthey stopped again, nearer to New Barnet. He promised to stay with\\nthem, at least until they could determine what to do, or until the\\nmissing man arrived, and professed to be an expert shot with the\\nrevolver—a weapon strange to him—in order to give them confidence.'),\n",
       "  0.42839167843779713),\n",
       " (Document(id='45edddb4-9af2-4da5-ae35-f1c69c5ec455', metadata={'source': 'war.txt', 'start_index': 21606}, page_content='By eight o’clock a number of boys and unemployed men had already\\nstarted for the common to see the “dead men from Mars.” That was the\\nform the story took. I heard of it first from my newspaper boy about a\\nquarter to nine when I went out to get my _Daily Chronicle_. I was\\nnaturally startled, and lost no time in going out and across the\\nOttershaw bridge to the sand-pits.\\n\\n\\n\\n\\nIII.\\nON HORSELL COMMON.'),\n",
       "  0.4112980733518334),\n",
       " (Document(id='c6a18264-9fbf-4e07-8534-bc7392ca8dbe', metadata={'source': 'war.txt', 'start_index': 92577}, page_content='That was the story I got from him, bit by bit. He grew calmer telling\\nme and trying to make me see the things he had seen. He had eaten no\\nfood since midday, he told me early in his narrative, and I found some\\nmutton and bread in the pantry and brought it into the room. We lit no\\nlamp for fear of attracting the Martians, and ever and again our hands\\nwould touch upon bread or meat. As he talked, things about us came\\ndarkly out of the darkness, and the trampled bushes and broken rose'),\n",
       "  0.407467400521238),\n",
       " (Document(id='723d277a-57fa-4f88-827f-379ecd1950f9', metadata={'source': 'war.txt', 'start_index': 194206}, page_content='among the starving people in the neighbourhood. But this intelligence\\ndid not deter him from the plan of escape he had formed, and the three\\npressed eastward all day, and heard no more of the bread distribution\\nthan this promise. Nor, as a matter of fact, did anyone else hear more\\nof it. That night fell the seventh star, falling upon Primrose Hill. It\\nfell while Miss Elphinstone was watching, for she took that duty\\nalternately with my brother. She saw it.'),\n",
       "  0.395792681261287),\n",
       " (Document(id='72ab00d7-d890-438e-9ff6-857d582bf189', metadata={'source': 'war.txt', 'start_index': 329258}, page_content='two hundred years,” I had written, “we may expect——” The sentence ended\\nabruptly. I remembered my inability to fix my mind that morning,\\nscarcely a month gone by, and how I had broken off to get my _Daily\\nChronicle_ from the newsboy. I remembered how I went down to the garden\\ngate as he came along, and how I had listened to his odd story of “Men\\nfrom Mars.”'),\n",
       "  0.3821999109788424),\n",
       " (Document(id='98d6e10d-1a51-4f24-8872-06f030b07720', metadata={'source': 'war.txt', 'start_index': 298778}, page_content='“One night last week,” he said, “some fools got the electric light in\\norder, and there was all Regent Street and the Circus ablaze, crowded\\nwith painted and ragged drunkards, men and women, dancing and shouting\\ntill dawn. A man who was there told me. And as the day came they became\\naware of a fighting-machine standing near by the Langham and looking\\ndown at them. Heaven knows how long he had been there. It must have\\ngiven some of them a nasty turn. He came down the road towards them,'),\n",
       "  0.37705332170597927),\n",
       " (Document(id='525d645c-25df-475a-8c08-b96366b0c5f3', metadata={'source': 'war.txt', 'start_index': 207668}, page_content='In the first book I have wandered so much from my own adventures to\\ntell of the experiences of my brother that all through the last two\\nchapters I and the curate have been lurking in the empty house at\\nHalliford whither we fled to escape the Black Smoke. There I will\\nresume. We stopped there all Sunday night and all the next day—the day\\nof the panic—in a little island of daylight, cut off by the Black Smoke\\nfrom the rest of the world. We could do nothing but wait in aching'),\n",
       "  0.3760358083041112),\n",
       " (Document(id='cbbfda37-e56f-4d34-99ef-a5d3fa9970f5', metadata={'source': 'war.txt', 'start_index': 159191}, page_content='The man who escaped at the former place tells a wonderful story of the\\nstrangeness of its coiling flow, and how he looked down from the church\\nspire and saw the houses of the village rising like ghosts out of its\\ninky nothingness. For a day and a half he remained there, weary,\\nstarving and sun-scorched, the earth under the blue sky and against the\\nprospect of the distant hills a velvet-black expanse, with red roofs,\\ngreen trees, and, later, black-veiled shrubs and gates, barns,'),\n",
       "  0.37348865497833894),\n",
       " (Document(id='44b09975-fc32-431f-8e79-ef3a633f4b5c', metadata={'source': 'war.txt', 'start_index': 170362}, page_content='missing my brother. The less courageous of the robbers made off, and\\nhis companion followed him, cursing his cowardice. They both stopped in\\nsight down the lane, where the third man lay insensible.'),\n",
       "  0.3694948440004149),\n",
       " (Document(id='07dbf596-5a5c-4e85-9648-8d0347af0a73', metadata={'source': 'war.txt', 'start_index': 130363}, page_content='_Sunday Sun_ put it, and a clever and remarkably prompt “handbook”\\narticle in the _Referee_ compared the affair to a menagerie suddenly\\nlet loose in a village.'),\n",
       "  0.3686833324532342)]"
      ]
     },
     "execution_count": 18,
     "metadata": {},
     "output_type": "execute_result"
    }
   ],
   "source": [
    "search_results = vector_store.similarity_search_with_score(\n",
    "    \"What is the story about?\",\n",
    "    k = 10\n",
    ")\n",
    "\n",
    "search_results"
   ]
  },
  {
   "cell_type": "code",
   "execution_count": null,
   "id": "1e23fcb5",
   "metadata": {},
   "outputs": [],
   "source": []
  }
 ],
 "metadata": {
  "kernelspec": {
   "display_name": "venv",
   "language": "python",
   "name": "python3"
  },
  "language_info": {
   "codemirror_mode": {
    "name": "ipython",
    "version": 3
   },
   "file_extension": ".py",
   "mimetype": "text/x-python",
   "name": "python",
   "nbconvert_exporter": "python",
   "pygments_lexer": "ipython3",
   "version": "3.12.2"
  }
 },
 "nbformat": 4,
 "nbformat_minor": 5
}
