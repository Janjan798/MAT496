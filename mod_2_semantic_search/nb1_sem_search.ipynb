{
 "cells": [
  {
   "cell_type": "code",
   "execution_count": 3,
   "id": "a88da927",
   "metadata": {},
   "outputs": [],
   "source": [
    "#!pip install langchain-community pypdf"
   ]
  },
  {
   "cell_type": "code",
   "execution_count": 4,
   "id": "f17f0e6a",
   "metadata": {},
   "outputs": [],
   "source": [
    "from dotenv import load_dotenv\n",
    "load_dotenv()\n",
    "import os"
   ]
  },
  {
   "cell_type": "code",
   "execution_count": 5,
   "id": "52039aa4",
   "metadata": {},
   "outputs": [],
   "source": [
    "from langchain_google_genai import ChatGoogleGenerativeAI\n",
    "\n",
    "model = ChatGoogleGenerativeAI(\n",
    "    model=\"gemini-2.5-flash\")"
   ]
  },
  {
   "cell_type": "code",
   "execution_count": 6,
   "id": "32918ca3",
   "metadata": {},
   "outputs": [],
   "source": [
    "prompt_template=\"\"\"You are an assistant for question answering tasks. Use the following pieces of retreived context to answer the question.\n",
    "If you don't know the answer just say you don't know. Keep it brief.\n",
    "Question: {question}\n",
    "Context: {context}\n",
    "\"\"\""
   ]
  },
  {
   "cell_type": "code",
   "execution_count": 7,
   "id": "ea5d518e",
   "metadata": {},
   "outputs": [
    {
     "data": {
      "text/plain": [
       "'Inn.\\n\\nCHAPTER 4. The Counterpane.\\n\\nCHAPTER 5. Breakfast.\\n\\nCHAPTER 6. The Street.\\n\\nCHAPTER 7. The Cha'"
      ]
     },
     "execution_count": 7,
     "metadata": {},
     "output_type": "execute_result"
    }
   ],
   "source": [
    "with open('MobyDick.txt', encoding='utf-8', errors='replace') as book:\n",
    "    text = book.read()\n",
    "\n",
    "text[1000:1100]"
   ]
  },
  {
   "cell_type": "code",
   "execution_count": 8,
   "id": "10a48917",
   "metadata": {},
   "outputs": [],
   "source": [
    "# Better printing\n",
    "\n",
    "from IPython.display import Markdown"
   ]
  },
  {
   "cell_type": "code",
   "execution_count": 9,
   "id": "5103f8d7",
   "metadata": {},
   "outputs": [],
   "source": [
    "from langchain_community.document_loaders import TextLoader\n",
    "loader = TextLoader(\"war.txt\", encoding='utf-8')\n",
    "docs = loader.load()"
   ]
  },
  {
   "cell_type": "code",
   "execution_count": 10,
   "id": "d256ad9d",
   "metadata": {},
   "outputs": [
    {
     "name": "stdout",
     "output_type": "stream",
     "text": [
      "Split given book into 1035 sub-documents.\n"
     ]
    }
   ],
   "source": [
    "from langchain_text_splitters import RecursiveCharacterTextSplitter\n",
    "\n",
    "text_splitter = RecursiveCharacterTextSplitter(\n",
    "    chunk_size=500,  # chunk size (characters)\n",
    "    chunk_overlap=100,  # chunk overlap (characters)\n",
    "    add_start_index=True,  # track index in original document\n",
    ")\n",
    "all_splits = text_splitter.split_documents(docs)\n",
    "\n",
    "print(f\"Split given book into {len(all_splits)} sub-documents.\")"
   ]
  },
  {
   "cell_type": "markdown",
   "id": "53a3dc80",
   "metadata": {},
   "source": [
    "EMBEDDINGS"
   ]
  },
  {
   "cell_type": "code",
   "execution_count": 11,
   "id": "18d72043",
   "metadata": {},
   "outputs": [
    {
     "name": "stderr",
     "output_type": "stream",
     "text": [
      "C:\\Users\\ananj\\AppData\\Local\\Temp\\ipykernel_28100\\1052337485.py:5: LangChainDeprecationWarning: The class `HuggingFaceEmbeddings` was deprecated in LangChain 0.2.2 and will be removed in 1.0. An updated version of the class exists in the :class:`~langchain-huggingface package and should be used instead. To use it run `pip install -U :class:`~langchain-huggingface` and import as `from :class:`~langchain_huggingface import HuggingFaceEmbeddings``.\n",
      "  embeddings = HuggingFaceEmbeddings(model_name=\"sentence-transformers/all-MiniLM-L6-v2\")\n"
     ]
    },
    {
     "name": "stdout",
     "output_type": "stream",
     "text": [
      "Added 1035 documents to vector store using HuggingFace embeddings.\n"
     ]
    }
   ],
   "source": [
    "# Free alternative to Gemini embeddings\n",
    "from langchain_community.embeddings import HuggingFaceEmbeddings\n",
    "\n",
    "# Load a small, fast embedding model\n",
    "embeddings = HuggingFaceEmbeddings(model_name=\"sentence-transformers/all-MiniLM-L6-v2\")\n",
    "\n",
    "# Create a vector store\n",
    "from langchain_core.vectorstores import InMemoryVectorStore\n",
    "vector_store = InMemoryVectorStore(embeddings)\n",
    "\n",
    "# Adding documents to vector store in small batches (to avoid memory spikes)\n",
    "batched_ids = []\n",
    "batch_size = 50  # you can adjust this up/down\n",
    "for i in range(0, len(all_splits), batch_size):\n",
    "    batch = all_splits[i:i+batch_size]\n",
    "    ids = vector_store.add_documents(documents=batch)\n",
    "    batched_ids.extend(ids)\n",
    "\n",
    "print(f\"Added {len(batched_ids)} documents to vector store using HuggingFace embeddings.\")\n"
   ]
  },
  {
   "cell_type": "code",
   "execution_count": 12,
   "id": "bddac4c0",
   "metadata": {},
   "outputs": [],
   "source": [
    "#ids"
   ]
  },
  {
   "cell_type": "code",
   "execution_count": 13,
   "id": "c6ef110d",
   "metadata": {},
   "outputs": [
    {
     "data": {
      "text/plain": [
       "[(Document(id='7b969d56-32cf-4f59-93f6-748f8d2093ac', metadata={'source': 'war.txt', 'start_index': 172155}, page_content='That was the story they told my brother in fragments when presently\\nthey stopped again, nearer to New Barnet. He promised to stay with\\nthem, at least until they could determine what to do, or until the\\nmissing man arrived, and professed to be an expert shot with the\\nrevolver—a weapon strange to him—in order to give them confidence.'),\n",
       "  0.42839167843779713),\n",
       " (Document(id='0621d20d-89c8-429b-bc14-da4612f020cc', metadata={'source': 'war.txt', 'start_index': 21606}, page_content='By eight o’clock a number of boys and unemployed men had already\\nstarted for the common to see the “dead men from Mars.” That was the\\nform the story took. I heard of it first from my newspaper boy about a\\nquarter to nine when I went out to get my _Daily Chronicle_. I was\\nnaturally startled, and lost no time in going out and across the\\nOttershaw bridge to the sand-pits.\\n\\n\\n\\n\\nIII.\\nON HORSELL COMMON.'),\n",
       "  0.4112980733518334),\n",
       " (Document(id='ddce5876-0e7f-493b-be7f-f9f4d7808e15', metadata={'source': 'war.txt', 'start_index': 92577}, page_content='That was the story I got from him, bit by bit. He grew calmer telling\\nme and trying to make me see the things he had seen. He had eaten no\\nfood since midday, he told me early in his narrative, and I found some\\nmutton and bread in the pantry and brought it into the room. We lit no\\nlamp for fear of attracting the Martians, and ever and again our hands\\nwould touch upon bread or meat. As he talked, things about us came\\ndarkly out of the darkness, and the trampled bushes and broken rose'),\n",
       "  0.407467400521238),\n",
       " (Document(id='c2633c0f-a804-432b-939c-f881eaf33e8e', metadata={'source': 'war.txt', 'start_index': 194206}, page_content='among the starving people in the neighbourhood. But this intelligence\\ndid not deter him from the plan of escape he had formed, and the three\\npressed eastward all day, and heard no more of the bread distribution\\nthan this promise. Nor, as a matter of fact, did anyone else hear more\\nof it. That night fell the seventh star, falling upon Primrose Hill. It\\nfell while Miss Elphinstone was watching, for she took that duty\\nalternately with my brother. She saw it.'),\n",
       "  0.395792681261287),\n",
       " (Document(id='930c6d03-b374-49f2-8a63-10b7af8e353f', metadata={'source': 'war.txt', 'start_index': 329258}, page_content='two hundred years,” I had written, “we may expect——” The sentence ended\\nabruptly. I remembered my inability to fix my mind that morning,\\nscarcely a month gone by, and how I had broken off to get my _Daily\\nChronicle_ from the newsboy. I remembered how I went down to the garden\\ngate as he came along, and how I had listened to his odd story of “Men\\nfrom Mars.”'),\n",
       "  0.3821999109788424),\n",
       " (Document(id='e56da229-002f-40a8-b797-410e5c7eb97c', metadata={'source': 'war.txt', 'start_index': 298778}, page_content='“One night last week,” he said, “some fools got the electric light in\\norder, and there was all Regent Street and the Circus ablaze, crowded\\nwith painted and ragged drunkards, men and women, dancing and shouting\\ntill dawn. A man who was there told me. And as the day came they became\\naware of a fighting-machine standing near by the Langham and looking\\ndown at them. Heaven knows how long he had been there. It must have\\ngiven some of them a nasty turn. He came down the road towards them,'),\n",
       "  0.37705332170597927),\n",
       " (Document(id='7c089565-84d4-4903-ba70-f126ad057fb0', metadata={'source': 'war.txt', 'start_index': 207668}, page_content='In the first book I have wandered so much from my own adventures to\\ntell of the experiences of my brother that all through the last two\\nchapters I and the curate have been lurking in the empty house at\\nHalliford whither we fled to escape the Black Smoke. There I will\\nresume. We stopped there all Sunday night and all the next day—the day\\nof the panic—in a little island of daylight, cut off by the Black Smoke\\nfrom the rest of the world. We could do nothing but wait in aching'),\n",
       "  0.3760358083041112),\n",
       " (Document(id='284e086a-3e2a-4516-a05a-2cf411938b1f', metadata={'source': 'war.txt', 'start_index': 159191}, page_content='The man who escaped at the former place tells a wonderful story of the\\nstrangeness of its coiling flow, and how he looked down from the church\\nspire and saw the houses of the village rising like ghosts out of its\\ninky nothingness. For a day and a half he remained there, weary,\\nstarving and sun-scorched, the earth under the blue sky and against the\\nprospect of the distant hills a velvet-black expanse, with red roofs,\\ngreen trees, and, later, black-veiled shrubs and gates, barns,'),\n",
       "  0.37348865497833894),\n",
       " (Document(id='5207568b-f441-41b1-89b4-7d22464a4dfd', metadata={'source': 'war.txt', 'start_index': 170362}, page_content='missing my brother. The less courageous of the robbers made off, and\\nhis companion followed him, cursing his cowardice. They both stopped in\\nsight down the lane, where the third man lay insensible.'),\n",
       "  0.3694948440004149),\n",
       " (Document(id='10700451-965f-4d19-a44d-5154e7c75b8c', metadata={'source': 'war.txt', 'start_index': 130363}, page_content='_Sunday Sun_ put it, and a clever and remarkably prompt “handbook”\\narticle in the _Referee_ compared the affair to a menagerie suddenly\\nlet loose in a village.'),\n",
       "  0.3686833324532342)]"
      ]
     },
     "execution_count": 13,
     "metadata": {},
     "output_type": "execute_result"
    }
   ],
   "source": [
    "search_results = vector_store.similarity_search_with_score(\n",
    "    \"What is the story about?\",\n",
    "    k = 10\n",
    ")\n",
    "\n",
    "search_results"
   ]
  },
  {
   "cell_type": "markdown",
   "id": "f38d8c62",
   "metadata": {},
   "source": [
    "RAG"
   ]
  },
  {
   "cell_type": "code",
   "execution_count": 14,
   "id": "1e23fcb5",
   "metadata": {},
   "outputs": [
    {
     "name": "stdout",
     "output_type": "stream",
     "text": [
      "That was the story they told my brother in fragments when presently\n",
      "they stopped again, nearer to New Barnet. He promised to stay with\n",
      "them, at least until they could determine what to do, or until the\n",
      "missing man arrived, and professed to be an expert shot with the\n",
      "revolver—a weapon strange to him—in order to give them confidence.\n",
      "==================================================\n",
      "\n",
      "\n",
      "By eight o’clock a number of boys and unemployed men had already\n",
      "started for the common to see the “dead men from Mars.” That was the\n",
      "form the story took. I heard of it first from my newspaper boy about a\n",
      "quarter to nine when I went out to get my _Daily Chronicle_. I was\n",
      "naturally startled, and lost no time in going out and across the\n",
      "Ottershaw bridge to the sand-pits.\n",
      "\n",
      "\n",
      "\n",
      "\n",
      "III.\n",
      "ON HORSELL COMMON.\n",
      "==================================================\n",
      "\n",
      "\n",
      "That was the story I got from him, bit by bit. He grew calmer telling\n",
      "me and trying to make me see the things he had seen. He had eaten no\n",
      "food since midday, he told me early in his narrative, and I found some\n",
      "mutton and bread in the pantry and brought it into the room. We lit no\n",
      "lamp for fear of attracting the Martians, and ever and again our hands\n",
      "would touch upon bread or meat. As he talked, things about us came\n",
      "darkly out of the darkness, and the trampled bushes and broken rose\n",
      "==================================================\n",
      "\n",
      "\n",
      "among the starving people in the neighbourhood. But this intelligence\n",
      "did not deter him from the plan of escape he had formed, and the three\n",
      "pressed eastward all day, and heard no more of the bread distribution\n",
      "than this promise. Nor, as a matter of fact, did anyone else hear more\n",
      "of it. That night fell the seventh star, falling upon Primrose Hill. It\n",
      "fell while Miss Elphinstone was watching, for she took that duty\n",
      "alternately with my brother. She saw it.\n",
      "==================================================\n",
      "\n",
      "\n",
      "two hundred years,” I had written, “we may expect——” The sentence ended\n",
      "abruptly. I remembered my inability to fix my mind that morning,\n",
      "scarcely a month gone by, and how I had broken off to get my _Daily\n",
      "Chronicle_ from the newsboy. I remembered how I went down to the garden\n",
      "gate as he came along, and how I had listened to his odd story of “Men\n",
      "from Mars.”\n",
      "==================================================\n",
      "\n",
      "\n",
      "“One night last week,” he said, “some fools got the electric light in\n",
      "order, and there was all Regent Street and the Circus ablaze, crowded\n",
      "with painted and ragged drunkards, men and women, dancing and shouting\n",
      "till dawn. A man who was there told me. And as the day came they became\n",
      "aware of a fighting-machine standing near by the Langham and looking\n",
      "down at them. Heaven knows how long he had been there. It must have\n",
      "given some of them a nasty turn. He came down the road towards them,\n",
      "==================================================\n",
      "\n",
      "\n",
      "In the first book I have wandered so much from my own adventures to\n",
      "tell of the experiences of my brother that all through the last two\n",
      "chapters I and the curate have been lurking in the empty house at\n",
      "Halliford whither we fled to escape the Black Smoke. There I will\n",
      "resume. We stopped there all Sunday night and all the next day—the day\n",
      "of the panic—in a little island of daylight, cut off by the Black Smoke\n",
      "from the rest of the world. We could do nothing but wait in aching\n",
      "==================================================\n",
      "\n",
      "\n",
      "The man who escaped at the former place tells a wonderful story of the\n",
      "strangeness of its coiling flow, and how he looked down from the church\n",
      "spire and saw the houses of the village rising like ghosts out of its\n",
      "inky nothingness. For a day and a half he remained there, weary,\n",
      "starving and sun-scorched, the earth under the blue sky and against the\n",
      "prospect of the distant hills a velvet-black expanse, with red roofs,\n",
      "green trees, and, later, black-veiled shrubs and gates, barns,\n",
      "==================================================\n",
      "\n",
      "\n",
      "missing my brother. The less courageous of the robbers made off, and\n",
      "his companion followed him, cursing his cowardice. They both stopped in\n",
      "sight down the lane, where the third man lay insensible.\n",
      "==================================================\n",
      "\n",
      "\n",
      "_Sunday Sun_ put it, and a clever and remarkably prompt “handbook”\n",
      "article in the _Referee_ compared the affair to a menagerie suddenly\n",
      "let loose in a village.\n",
      "==================================================\n",
      "\n"
     ]
    }
   ],
   "source": [
    "prompt_template = \"\"\"You are an assistant for question-answering tasks. Use the following pieces of retrieved context to answer the question. If you don't know the answer, just say that you don't know. Use three sentences maximum and keep the answer concise.\n",
    "Question: {question} \n",
    "Context: {context} \n",
    "Answer:\"\"\"\n",
    "\n",
    "doc_content = \"\\n\\n\".join(doc.page_content+\"\\n\"+\"=\"*50+\"\\n\" for (doc,score) in search_results)\n",
    "print(doc_content)"
   ]
  },
  {
   "cell_type": "code",
   "execution_count": 15,
   "id": "26891819",
   "metadata": {},
   "outputs": [],
   "source": [
    "# make the LLM read see the prompt, and analyse the retrieved document, and generate response\n",
    "\n",
    "prompt_template = \"\"\"You are an assistant for question-answering tasks. Use the following pieces of retrieved context to answer the question. If you don't know the answer, just say that you don't know. Use three sentences maximum and keep the answer concise.\n",
    "Question: {question} \n",
    "Context: {context} \n",
    "Answer:\"\"\"\n",
    "\n",
    "response = model.invoke(prompt_template.format(\n",
    "    context=doc_content,\n",
    "    question=\"What is the story about?\"))"
   ]
  },
  {
   "cell_type": "code",
   "execution_count": 17,
   "id": "6874a9cc",
   "metadata": {},
   "outputs": [
    {
     "data": {
      "text/markdown": [
       "The story is about an invasion by Martians, referred to as \"Men from Mars,\" and the chaos they cause with \"fighting-machines\" and \"Black Smoke.\" It details the experiences of people trying to survive and escape, including the narrator and his brother, amidst widespread panic and starvation."
      ],
      "text/plain": [
       "<IPython.core.display.Markdown object>"
      ]
     },
     "execution_count": 17,
     "metadata": {},
     "output_type": "execute_result"
    }
   ],
   "source": [
    "Markdown(response.content)"
   ]
  },
  {
   "cell_type": "code",
   "execution_count": null,
   "id": "d2be156c",
   "metadata": {},
   "outputs": [],
   "source": []
  }
 ],
 "metadata": {
  "kernelspec": {
   "display_name": "venv",
   "language": "python",
   "name": "python3"
  },
  "language_info": {
   "codemirror_mode": {
    "name": "ipython",
    "version": 3
   },
   "file_extension": ".py",
   "mimetype": "text/x-python",
   "name": "python",
   "nbconvert_exporter": "python",
   "pygments_lexer": "ipython3",
   "version": "3.12.2"
  }
 },
 "nbformat": 4,
 "nbformat_minor": 5
}
